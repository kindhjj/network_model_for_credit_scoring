{
 "cells": [
  {
   "cell_type": "code",
   "execution_count": 65,
   "metadata": {},
   "outputs": [],
   "source": [
    "import pandas as pd\n",
    "import numpy as np\n",
    "import chart_studio.plotly as py\n",
    "from chart_studio.plotly import iplot\n",
    "from chart_studio import tools\n",
    "from plotly.graph_objs import *\n",
    "tools.set_credentials_file(username='ShawnXiao',api_key='iPcpCcCFROg5WfytqeAv')\n",
    "import networkx as nx\n",
    "import math\n",
    "import igraph as ig\n",
    "import plotly.offline as pyoff"
   ]
  },
  {
   "cell_type": "markdown",
   "metadata": {},
   "source": [
    "### Data Load\n"
   ]
  },
  {
   "cell_type": "code",
   "execution_count": 126,
   "metadata": {},
   "outputs": [],
   "source": [
    "score_df_path = '../data/SME_dataset.csv'\n",
    "connect_flag_df_path = '../result/connect_flag_df_threshold_%s.csv'\n",
    "factor_matrix_flag_df_path='../result/fator_matrix_threshold_%s.csv'\n",
    "\n",
    "threshold_list = [0.05, 0.1]\n"
   ]
  },
  {
   "cell_type": "code",
   "execution_count": 127,
   "metadata": {},
   "outputs": [],
   "source": [
    "rawdata_df=pd.read_csv(score_df_path)\n",
    "\n",
    "threshold=threshold_list[0]    #plot result under threshold=0.05\n",
    "\n",
    "factor_matrix_flag_df_path = factor_matrix_flag_df_path %(str(threshold))\n",
    "factor_matrix_flag_df=pd.read_csv(factor_matrix_flag_df_path, index_col=0)"
   ]
  },
  {
   "cell_type": "code",
   "execution_count": 128,
   "metadata": {},
   "outputs": [],
   "source": [
    "cur_connect_flag_df_path = connect_flag_df_path % (str(threshold))\n",
    "connect_flag_df = pd.read_csv(cur_connect_flag_df_path, index_col=0)\n",
    "connect_def_num=sum((rawdata_df[connect_flag_df.values==1]['status']==1))  #connect and default\n",
    "connect_act_num=sum((rawdata_df[connect_flag_df.values==1]['status']==0)) #connect and active\n",
    "\n",
    "nonconnect_def_num=sum((rawdata_df[connect_flag_df.values==0]['status']==1))  #connect and default\n",
    "nonconnect_act_num=sum((rawdata_df[connect_flag_df.values==0]['status']==0))  #connect and default"
   ]
  },
  {
   "cell_type": "code",
   "execution_count": 129,
   "metadata": {},
   "outputs": [],
   "source": [
    "#factor_matrix_flag_df_path = factor_matrix_flag_df_path %(str(threshold))\n",
    "factor_matrix_flag_df=pd.read_csv(factor_matrix_flag_df_path, index_col=0)"
   ]
  },
  {
   "cell_type": "code",
   "execution_count": 130,
   "metadata": {},
   "outputs": [
    {
     "data": {
      "text/html": "<div>\n<style scoped>\n    .dataframe tbody tr th:only-of-type {\n        vertical-align: middle;\n    }\n\n    .dataframe tbody tr th {\n        vertical-align: top;\n    }\n\n    .dataframe thead th {\n        text-align: right;\n    }\n</style>\n<table border=\"1\" class=\"dataframe\">\n  <thead>\n    <tr style=\"text-align: right;\">\n      <th></th>\n      <th>0</th>\n      <th>1</th>\n      <th>2</th>\n      <th>3</th>\n      <th>4</th>\n      <th>5</th>\n      <th>6</th>\n      <th>7</th>\n      <th>8</th>\n      <th>9</th>\n      <th>...</th>\n      <th>15035</th>\n      <th>15036</th>\n      <th>15037</th>\n      <th>15038</th>\n      <th>15039</th>\n      <th>15040</th>\n      <th>15041</th>\n      <th>15042</th>\n      <th>15043</th>\n      <th>15044</th>\n    </tr>\n  </thead>\n  <tbody>\n    <tr>\n      <td>0</td>\n      <td>True</td>\n      <td>True</td>\n      <td>False</td>\n      <td>False</td>\n      <td>False</td>\n      <td>False</td>\n      <td>False</td>\n      <td>False</td>\n      <td>False</td>\n      <td>False</td>\n      <td>...</td>\n      <td>False</td>\n      <td>False</td>\n      <td>False</td>\n      <td>False</td>\n      <td>False</td>\n      <td>False</td>\n      <td>False</td>\n      <td>False</td>\n      <td>False</td>\n      <td>False</td>\n    </tr>\n    <tr>\n      <td>1</td>\n      <td>True</td>\n      <td>True</td>\n      <td>False</td>\n      <td>False</td>\n      <td>False</td>\n      <td>False</td>\n      <td>False</td>\n      <td>False</td>\n      <td>False</td>\n      <td>False</td>\n      <td>...</td>\n      <td>False</td>\n      <td>False</td>\n      <td>False</td>\n      <td>False</td>\n      <td>False</td>\n      <td>False</td>\n      <td>False</td>\n      <td>False</td>\n      <td>False</td>\n      <td>False</td>\n    </tr>\n    <tr>\n      <td>4</td>\n      <td>False</td>\n      <td>False</td>\n      <td>False</td>\n      <td>False</td>\n      <td>False</td>\n      <td>False</td>\n      <td>False</td>\n      <td>False</td>\n      <td>False</td>\n      <td>False</td>\n      <td>...</td>\n      <td>False</td>\n      <td>False</td>\n      <td>False</td>\n      <td>False</td>\n      <td>False</td>\n      <td>False</td>\n      <td>False</td>\n      <td>False</td>\n      <td>False</td>\n      <td>False</td>\n    </tr>\n    <tr>\n      <td>5</td>\n      <td>False</td>\n      <td>False</td>\n      <td>False</td>\n      <td>False</td>\n      <td>False</td>\n      <td>True</td>\n      <td>False</td>\n      <td>False</td>\n      <td>False</td>\n      <td>False</td>\n      <td>...</td>\n      <td>False</td>\n      <td>False</td>\n      <td>False</td>\n      <td>False</td>\n      <td>False</td>\n      <td>False</td>\n      <td>False</td>\n      <td>False</td>\n      <td>False</td>\n      <td>False</td>\n    </tr>\n    <tr>\n      <td>6</td>\n      <td>False</td>\n      <td>False</td>\n      <td>False</td>\n      <td>False</td>\n      <td>False</td>\n      <td>False</td>\n      <td>False</td>\n      <td>False</td>\n      <td>False</td>\n      <td>False</td>\n      <td>...</td>\n      <td>False</td>\n      <td>False</td>\n      <td>False</td>\n      <td>False</td>\n      <td>False</td>\n      <td>False</td>\n      <td>False</td>\n      <td>False</td>\n      <td>False</td>\n      <td>False</td>\n    </tr>\n    <tr>\n      <td>...</td>\n      <td>...</td>\n      <td>...</td>\n      <td>...</td>\n      <td>...</td>\n      <td>...</td>\n      <td>...</td>\n      <td>...</td>\n      <td>...</td>\n      <td>...</td>\n      <td>...</td>\n      <td>...</td>\n      <td>...</td>\n      <td>...</td>\n      <td>...</td>\n      <td>...</td>\n      <td>...</td>\n      <td>...</td>\n      <td>...</td>\n      <td>...</td>\n      <td>...</td>\n      <td>...</td>\n    </tr>\n    <tr>\n      <td>15033</td>\n      <td>False</td>\n      <td>False</td>\n      <td>False</td>\n      <td>False</td>\n      <td>False</td>\n      <td>False</td>\n      <td>False</td>\n      <td>False</td>\n      <td>False</td>\n      <td>False</td>\n      <td>...</td>\n      <td>False</td>\n      <td>True</td>\n      <td>False</td>\n      <td>False</td>\n      <td>False</td>\n      <td>False</td>\n      <td>False</td>\n      <td>False</td>\n      <td>True</td>\n      <td>False</td>\n    </tr>\n    <tr>\n      <td>15036</td>\n      <td>False</td>\n      <td>False</td>\n      <td>False</td>\n      <td>False</td>\n      <td>False</td>\n      <td>False</td>\n      <td>False</td>\n      <td>False</td>\n      <td>False</td>\n      <td>False</td>\n      <td>...</td>\n      <td>False</td>\n      <td>True</td>\n      <td>False</td>\n      <td>False</td>\n      <td>False</td>\n      <td>False</td>\n      <td>False</td>\n      <td>False</td>\n      <td>True</td>\n      <td>False</td>\n    </tr>\n    <tr>\n      <td>15039</td>\n      <td>False</td>\n      <td>False</td>\n      <td>False</td>\n      <td>False</td>\n      <td>False</td>\n      <td>False</td>\n      <td>False</td>\n      <td>False</td>\n      <td>False</td>\n      <td>False</td>\n      <td>...</td>\n      <td>False</td>\n      <td>False</td>\n      <td>False</td>\n      <td>False</td>\n      <td>True</td>\n      <td>False</td>\n      <td>False</td>\n      <td>False</td>\n      <td>True</td>\n      <td>False</td>\n    </tr>\n    <tr>\n      <td>15041</td>\n      <td>False</td>\n      <td>False</td>\n      <td>False</td>\n      <td>False</td>\n      <td>False</td>\n      <td>False</td>\n      <td>False</td>\n      <td>True</td>\n      <td>False</td>\n      <td>False</td>\n      <td>...</td>\n      <td>False</td>\n      <td>False</td>\n      <td>False</td>\n      <td>False</td>\n      <td>False</td>\n      <td>False</td>\n      <td>True</td>\n      <td>False</td>\n      <td>False</td>\n      <td>False</td>\n    </tr>\n    <tr>\n      <td>15043</td>\n      <td>False</td>\n      <td>False</td>\n      <td>False</td>\n      <td>False</td>\n      <td>False</td>\n      <td>False</td>\n      <td>False</td>\n      <td>False</td>\n      <td>False</td>\n      <td>False</td>\n      <td>...</td>\n      <td>True</td>\n      <td>True</td>\n      <td>False</td>\n      <td>False</td>\n      <td>True</td>\n      <td>False</td>\n      <td>False</td>\n      <td>False</td>\n      <td>True</td>\n      <td>False</td>\n    </tr>\n  </tbody>\n</table>\n<p>3395 rows × 15045 columns</p>\n</div>",
      "text/plain": "           0      1      2      3      4      5      6      7      8      9  \\\n0       True   True  False  False  False  False  False  False  False  False   \n1       True   True  False  False  False  False  False  False  False  False   \n4      False  False  False  False  False  False  False  False  False  False   \n5      False  False  False  False  False   True  False  False  False  False   \n6      False  False  False  False  False  False  False  False  False  False   \n...      ...    ...    ...    ...    ...    ...    ...    ...    ...    ...   \n15033  False  False  False  False  False  False  False  False  False  False   \n15036  False  False  False  False  False  False  False  False  False  False   \n15039  False  False  False  False  False  False  False  False  False  False   \n15041  False  False  False  False  False  False  False   True  False  False   \n15043  False  False  False  False  False  False  False  False  False  False   \n\n       ...  15035  15036  15037  15038  15039  15040  15041  15042  15043  \\\n0      ...  False  False  False  False  False  False  False  False  False   \n1      ...  False  False  False  False  False  False  False  False  False   \n4      ...  False  False  False  False  False  False  False  False  False   \n5      ...  False  False  False  False  False  False  False  False  False   \n6      ...  False  False  False  False  False  False  False  False  False   \n...    ...    ...    ...    ...    ...    ...    ...    ...    ...    ...   \n15033  ...  False   True  False  False  False  False  False  False   True   \n15036  ...  False   True  False  False  False  False  False  False   True   \n15039  ...  False  False  False  False   True  False  False  False   True   \n15041  ...  False  False  False  False  False  False   True  False  False   \n15043  ...   True   True  False  False   True  False  False  False   True   \n\n       15044  \n0      False  \n1      False  \n4      False  \n5      False  \n6      False  \n...      ...  \n15033  False  \n15036  False  \n15039  False  \n15041  False  \n15043  False  \n\n[3395 rows x 15045 columns]"
     },
     "execution_count": 130,
     "metadata": {},
     "output_type": "execute_result"
    }
   ],
   "source": [
    "status_df=rawdata_df['status']\n",
    "connect_default_df=factor_matrix_flag_df[(rawdata_df['status']==1)&(pd.DataFrame(connect_flag_df)['connect_flag']==1)]\n",
    "connect_active_df=factor_matrix_flag_df[(rawdata_df['status']==0)&(pd.DataFrame(connect_flag_df)['connect_flag']==1)]\n",
    "connect_df=pd.concat([connect_default_df,connect_active_df], axis=0)\n",
    "connect_df"
   ]
  },
  {
   "cell_type": "code",
   "execution_count": 131,
   "metadata": {},
   "outputs": [],
   "source": [
    "temp=np.array(connect_df.index).tolist()\n",
    "temp=[str(x) for x in temp]\n",
    "connect_df=connect_df[temp]"
   ]
  },
  {
   "cell_type": "code",
   "execution_count": 132,
   "metadata": {},
   "outputs": [],
   "source": [
    "lomo_temp=np.tri(connect_df.shape[0],connect_df.shape[0],-1)\n",
    "lomo_temp=lomo_temp==1\n",
    "connect_df=connect_df&lomo_temp"
   ]
  },
  {
   "cell_type": "code",
   "execution_count": 133,
   "metadata": {},
   "outputs": [],
   "source": [
    "edge_array=np.where(connect_df)\n",
    "edge_array=np.array(edge_array).T"
   ]
  },
  {
   "cell_type": "code",
   "execution_count": 134,
   "metadata": {},
   "outputs": [
    {
     "data": {
      "text/plain": "(375465, 2)"
     },
     "execution_count": 134,
     "metadata": {},
     "output_type": "execute_result"
    }
   ],
   "source": [
    "edge_array.shape"
   ]
  },
  {
   "cell_type": "markdown",
   "metadata": {},
   "source": [
    "###  Function Definition"
   ]
  },
  {
   "cell_type": "code",
   "execution_count": 135,
   "metadata": {},
   "outputs": [],
   "source": [
    "def generate_pos_circle(radius,pos_num):\n",
    "    \n",
    "    t = np.random.random(size=pos_num) * 2 * np.pi - np.pi\n",
    "    x = np.cos(t)\n",
    "    y = np.sin(t)\n",
    "    i_set = np.arange(0,pos_num,1)\n",
    "    for i in i_set:\n",
    "        len = np.sqrt(np.random.random())\n",
    "        x[i] = x[i] * len\n",
    "        y[i] = y[i] * len\n",
    "    x=x*radius\n",
    "    y=y*radius\n",
    "    pos_list=[x,y]\n",
    "    return pos_list"
   ]
  },
  {
   "cell_type": "code",
   "execution_count": 136,
   "metadata": {},
   "outputs": [],
   "source": [
    "def generate_pos_ring(r_inner,r_outer,pos_num):\n",
    "    rad=np.sqrt(np.random.uniform(r_inner**2,r_outer**2,pos_num))\n",
    "    angle=np.random.uniform(-np.pi,np.pi,pos_num)\n",
    "    x,y=rad*np.cos(angle),rad*np.sin(angle)\n",
    "    \n",
    "    for i in range(x.shape[0]):\n",
    "        if math.hypot(x[i],y[i])<r_inner:\n",
    "            x[i],y[i]=-x[i],-y[i]\n",
    "    return [x,y]"
   ]
  },
  {
   "cell_type": "markdown",
   "metadata": {},
   "source": [
    "### Graph Plotting "
   ]
  },
  {
   "cell_type": "markdown",
   "metadata": {},
   "source": [
    "Canvas design"
   ]
  },
  {
   "cell_type": "code",
   "execution_count": 137,
   "metadata": {},
   "outputs": [],
   "source": [
    "axis=dict(showline=False, # hide axis line, grid, ticklabels and  title\n",
    "          zeroline=False,\n",
    "          showgrid=False,\n",
    "          showticklabels=False,\n",
    "          title='' \n",
    "          )\n",
    "\n",
    "width=800\n",
    "height=800"
   ]
  },
  {
   "cell_type": "code",
   "execution_count": 138,
   "metadata": {},
   "outputs": [],
   "source": [
    "layout=Layout(title= \"Coauthorship network of scientists working on network theory and experiment\"+\\\n",
    "              \"<br> Data source: <a href='https://networkdata.ics.uci.edu/data.php?id=11'> [1]</a>\",\n",
    "    font= dict(size=12),\n",
    "    showlegend=False,\n",
    "    autosize=False,\n",
    "    width=width,\n",
    "    height=height,\n",
    "    xaxis=XAxis(axis),\n",
    "    yaxis=YAxis(axis),\n",
    "    margin=Margin(\n",
    "        l=40,\n",
    "        r=40,\n",
    "        b=85,\n",
    "        t=100,\n",
    "    ),\n",
    "    hovermode='closest',\n",
    "    annotations=[\n",
    "           dict(\n",
    "           showarrow=False,\n",
    "            text='This igraph.Graph has the Kamada-Kawai layout',\n",
    "            xref='paper',\n",
    "            yref='paper',\n",
    "            x=0,\n",
    "            y=-0.1,\n",
    "            xanchor='left',\n",
    "            yanchor='bottom',\n",
    "            font=dict(\n",
    "            size=14\n",
    "            )\n",
    "            )\n",
    "        ]\n",
    "    )\n"
   ]
  },
  {
   "cell_type": "markdown",
   "metadata": {},
   "source": [
    "Plot Company Distribution"
   ]
  },
  {
   "cell_type": "code",
   "execution_count": 139,
   "metadata": {},
   "outputs": [],
   "source": [
    "def generate_scatter(node_pos,size,color):\n",
    "    N=len(node_pos[0])\n",
    "    Xv=[node_pos[0][k] for k in range(N)]\n",
    "    Yv=[node_pos[1][k] for k in range(N)]\n",
    "    trace=Scatter(x=Xv,\n",
    "               y=Yv,\n",
    "               mode='markers',\n",
    "               name='net',\n",
    "               marker=dict(symbol='circle',\n",
    "                             size=size, \n",
    "                             color=color,\n",
    "                             line=dict(color='rgb(50,50,50)', width=0.5)\n",
    "                             ),\n",
    "         \n",
    "                hoverinfo='text'\n",
    "               )\n",
    "    return trace"
   ]
  },
  {
   "cell_type": "code",
   "execution_count": 140,
   "metadata": {},
   "outputs": [],
   "source": [
    "def generate_edge(def_pos,act_pos,edge_array):\n",
    "    pos=np.vstack((np.array(def_pos).T,np.array(act_pos).T))\n",
    "    Xed=[]\n",
    "    Yed=[]\n",
    "    for edge in edge_array[1:200,:]:\n",
    "        Xed+=[pos[edge[0]][0],pos[edge[1]][0], None]\n",
    "        Yed+=[pos[edge[0]][1],pos[edge[1]][1], None] \n",
    "    edge_link=Scatter(x=Xed,\n",
    "               y=Yed,\n",
    "               mode='lines',\n",
    "               line=dict(color='rgb(150,150,150)', width=1),\n",
    "               hoverinfo='none'\n",
    "               )\n",
    "    \n",
    "    return edge_link"
   ]
  },
  {
   "cell_type": "code",
   "execution_count": 141,
   "metadata": {},
   "outputs": [],
   "source": [
    "connect_default_node=generate_pos_circle(1,connect_def_num)\n",
    "connect_active_node=generate_pos_circle(1,connect_act_num)\n",
    "nonconnect_default_node=generate_pos_ring(1.5,2.5,nonconnect_def_num)\n",
    "nonconnect_active_node=generate_pos_ring(1.5,2.5,nonconnect_act_num)"
   ]
  },
  {
   "cell_type": "code",
   "execution_count": 142,
   "metadata": {},
   "outputs": [],
   "source": [
    "connect_def_scatter=generate_scatter(connect_default_node,5,'#CD3700')\n",
    "connect_active_scatter=generate_scatter(connect_active_node,5,'#6959CD')\n",
    "nonconnect_default_scatter=generate_scatter(nonconnect_default_node,5,'#CD3700')\n",
    "nonconnect_active_scatter=generate_scatter(nonconnect_active_node,5,'#6959CD')\n",
    "connect_vector=generate_edge(connect_default_node,connect_active_node,edge_array)"
   ]
  },
  {
   "cell_type": "markdown",
   "metadata": {},
   "source": [
    "### draw network structure of all institutions"
   ]
  },
  {
   "cell_type": "code",
   "execution_count": 143,
   "metadata": {},
   "outputs": [
    {
     "data": {
      "text/plain": "'temp-plot.html'"
     },
     "execution_count": 143,
     "metadata": {},
     "output_type": "execute_result"
    }
   ],
   "source": [
    "data=[connect_vector,connect_def_scatter,connect_active_scatter,nonconnect_default_scatter,nonconnect_active_scatter]  \n",
    "data=[connect_vector,connect_def_scatter,connect_active_scatter]\n",
    "fig1=Figure(data=data,layout=layout)\n",
    "pyoff.plot(fig1)"
   ]
  },
  {
   "cell_type": "markdown",
   "metadata": {},
   "source": [
    "### draw network of connected component"
   ]
  },
  {
   "cell_type": "code",
   "execution_count": 145,
   "metadata": {},
   "outputs": [
    {
     "data": {
      "text/plain": "'temp-plot.html'"
     },
     "execution_count": 145,
     "metadata": {},
     "output_type": "execute_result"
    }
   ],
   "source": [
    "data=[connect_vector,connect_def_scatter,connect_active_scatter]\n",
    "fig1=Figure(data=data,layout=layout)\n",
    "pyoff.plot(fig1)"
   ]
  },
  {
   "cell_type": "code",
   "execution_count": null,
   "metadata": {},
   "outputs": [],
   "source": []
  }
 ],
 "metadata": {
  "kernelspec": {
   "display_name": "Python 3",
   "language": "python",
   "name": "python3"
  },
  "language_info": {
   "codemirror_mode": {
    "name": "ipython",
    "version": 3
   },
   "file_extension": ".py",
   "mimetype": "text/x-python",
   "name": "python",
   "nbconvert_exporter": "python",
   "pygments_lexer": "ipython3",
   "version": "3.7.4-final"
  }
 },
 "nbformat": 4,
 "nbformat_minor": 2
}