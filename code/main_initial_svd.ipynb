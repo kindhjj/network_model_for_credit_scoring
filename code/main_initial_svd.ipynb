{
 "cells": [
  {
   "cell_type": "code",
   "execution_count": 1,
   "metadata": {},
   "outputs": [],
   "source": [
    "import pandas as pd\n",
    "import numpy as np\n",
    "import seaborn as sns\n",
    "from scipy.stats import norm\n",
    "\n",
    "import matplotlib.pyplot as plt\n",
    "from matplotlib import cm\n",
    "from matplotlib import pyplot\n",
    "from sklearn.decomposition import PCA\n",
    "from collections import Counter"
   ]
  },
  {
   "cell_type": "markdown",
   "metadata": {},
   "source": [
    "### Funciton Defined\n"
   ]
  },
  {
   "cell_type": "code",
   "execution_count": 3,
   "metadata": {},
   "outputs": [],
   "source": [
    "def feature_selection(data_df,variation_threshold):\n",
    "    pca=PCA()\n",
    "    pca.fit(data_df)\n",
    "    cum_variation=np.cumsum(pca.explained_variance_ratio_)\n",
    "    feature_number=(cum_variation>variation_threshold).argmax(axis=0)+1\n",
    "    result_df=pd.DataFrame(data=np.vstack([pca.explained_variance_,pca.explained_variance_ratio_*100,cum_variation*100]).T,\n",
    "                          columns=['Eigenvalue', 'Variation explained(%)', 'Cumulative(%)'],\n",
    "                          index=np.arange(1,data_df.shape[1]+1))\n",
    "    result_df=round(result_df,2)\n",
    "    display(result_df)\n",
    "    print(\"Selected Feature number: \", feature_number)\n",
    "    \n",
    "    return feature_number\n",
    "    "
   ]
  },
  {
   "cell_type": "markdown",
   "metadata": {},
   "source": [
    "### Data Input\n",
    "\n"
   ]
  },
  {
   "cell_type": "code",
   "execution_count": 2,
   "metadata": {},
   "outputs": [
    {
     "data": {
      "text/html": "<div>\n<style scoped>\n    .dataframe tbody tr th:only-of-type {\n        vertical-align: middle;\n    }\n\n    .dataframe tbody tr th {\n        vertical-align: top;\n    }\n\n    .dataframe thead th {\n        text-align: right;\n    }\n</style>\n<table border=\"1\" class=\"dataframe\">\n  <thead>\n    <tr style=\"text-align: right;\">\n      <th></th>\n      <th>status</th>\n      <th>V1</th>\n      <th>V2</th>\n      <th>V3</th>\n      <th>V4</th>\n      <th>V5</th>\n      <th>V6</th>\n      <th>V7</th>\n      <th>V8</th>\n      <th>V9</th>\n      <th>...</th>\n      <th>V15</th>\n      <th>V16</th>\n      <th>V17</th>\n      <th>V18</th>\n      <th>V19</th>\n      <th>V20</th>\n      <th>V21</th>\n      <th>V22</th>\n      <th>V23</th>\n      <th>V24</th>\n    </tr>\n    <tr>\n      <th>X1</th>\n      <th></th>\n      <th></th>\n      <th></th>\n      <th></th>\n      <th></th>\n      <th></th>\n      <th></th>\n      <th></th>\n      <th></th>\n      <th></th>\n      <th></th>\n      <th></th>\n      <th></th>\n      <th></th>\n      <th></th>\n      <th></th>\n      <th></th>\n      <th></th>\n      <th></th>\n      <th></th>\n      <th></th>\n    </tr>\n  </thead>\n  <tbody>\n    <tr>\n      <td>2</td>\n      <td>1</td>\n      <td>3.30</td>\n      <td>0.62</td>\n      <td>1.30</td>\n      <td>0.96</td>\n      <td>0.70</td>\n      <td>0.94</td>\n      <td>-21.75</td>\n      <td>-0.12</td>\n      <td>-0.53</td>\n      <td>...</td>\n      <td>-0.01</td>\n      <td>1</td>\n      <td>1</td>\n      <td>1</td>\n      <td>1</td>\n      <td>7</td>\n      <td>25</td>\n      <td>8</td>\n      <td>36635</td>\n      <td>4635</td>\n    </tr>\n    <tr>\n      <td>3</td>\n      <td>1</td>\n      <td>-7.93</td>\n      <td>-0.19</td>\n      <td>0.87</td>\n      <td>1.35</td>\n      <td>1.34</td>\n      <td>225.95</td>\n      <td>-42.44</td>\n      <td>-0.59</td>\n      <td>-8.12</td>\n      <td>...</td>\n      <td>-0.10</td>\n      <td>1</td>\n      <td>1</td>\n      <td>1</td>\n      <td>1</td>\n      <td>1</td>\n      <td>42</td>\n      <td>65</td>\n      <td>29970</td>\n      <td>4791</td>\n    </tr>\n    <tr>\n      <td>7</td>\n      <td>1</td>\n      <td>1.24</td>\n      <td>0.41</td>\n      <td>1.81</td>\n      <td>1.14</td>\n      <td>0.65</td>\n      <td>1.10</td>\n      <td>-10.84</td>\n      <td>-0.08</td>\n      <td>-0.21</td>\n      <td>...</td>\n      <td>0.00</td>\n      <td>1</td>\n      <td>1</td>\n      <td>1</td>\n      <td>1</td>\n      <td>30</td>\n      <td>43</td>\n      <td>21</td>\n      <td>7052</td>\n      <td>4752</td>\n    </tr>\n    <tr>\n      <td>10</td>\n      <td>1</td>\n      <td>-1.16</td>\n      <td>-0.68</td>\n      <td>0.14</td>\n      <td>1.60</td>\n      <td>0.87</td>\n      <td>2.23</td>\n      <td>-16.29</td>\n      <td>-0.27</td>\n      <td>-0.05</td>\n      <td>...</td>\n      <td>-0.07</td>\n      <td>1</td>\n      <td>1</td>\n      <td>1</td>\n      <td>1</td>\n      <td>48</td>\n      <td>31</td>\n      <td>12</td>\n      <td>4276</td>\n      <td>4771</td>\n    </tr>\n    <tr>\n      <td>12</td>\n      <td>1</td>\n      <td>-1.90</td>\n      <td>-0.86</td>\n      <td>0.47</td>\n      <td>0.42</td>\n      <td>0.42</td>\n      <td>-1.78</td>\n      <td>-13.83</td>\n      <td>-0.24</td>\n      <td>-0.23</td>\n      <td>...</td>\n      <td>-0.17</td>\n      <td>1</td>\n      <td>1</td>\n      <td>1</td>\n      <td>1</td>\n      <td>0</td>\n      <td>53</td>\n      <td>156</td>\n      <td>3799</td>\n      <td>3212</td>\n    </tr>\n  </tbody>\n</table>\n<p>5 rows × 25 columns</p>\n</div>",
      "text/plain": "    status    V1    V2    V3    V4    V5      V6     V7    V8    V9  ...  \\\nX1                                                                   ...   \n2        1  3.30  0.62  1.30  0.96  0.70    0.94 -21.75 -0.12 -0.53  ...   \n3        1 -7.93 -0.19  0.87  1.35  1.34  225.95 -42.44 -0.59 -8.12  ...   \n7        1  1.24  0.41  1.81  1.14  0.65    1.10 -10.84 -0.08 -0.21  ...   \n10       1 -1.16 -0.68  0.14  1.60  0.87    2.23 -16.29 -0.27 -0.05  ...   \n12       1 -1.90 -0.86  0.47  0.42  0.42   -1.78 -13.83 -0.24 -0.23  ...   \n\n     V15  V16  V17  V18  V19  V20  V21  V22    V23   V24  \nX1                                                        \n2  -0.01    1    1    1    1    7   25    8  36635  4635  \n3  -0.10    1    1    1    1    1   42   65  29970  4791  \n7   0.00    1    1    1    1   30   43   21   7052  4752  \n10 -0.07    1    1    1    1   48   31   12   4276  4771  \n12 -0.17    1    1    1    1    0   53  156   3799  3212  \n\n[5 rows x 25 columns]"
     },
     "execution_count": 2,
     "metadata": {},
     "output_type": "execute_result"
    }
   ],
   "source": [
    "rawdata_df = pd.read_csv('../data/SME_dataset.csv', index_col = 0)\n",
    "rawdata_df.head()"
   ]
  },
  {
   "cell_type": "code",
   "execution_count": 19,
   "metadata": {},
   "outputs": [
    {
     "data": {
      "text/html": "<div>\n<style scoped>\n    .dataframe tbody tr th:only-of-type {\n        vertical-align: middle;\n    }\n\n    .dataframe tbody tr th {\n        vertical-align: top;\n    }\n\n    .dataframe thead th {\n        text-align: right;\n    }\n</style>\n<table border=\"1\" class=\"dataframe\">\n  <thead>\n    <tr style=\"text-align: right;\">\n      <th></th>\n      <th>status</th>\n      <th>V1</th>\n      <th>V2</th>\n      <th>V3</th>\n      <th>V4</th>\n      <th>V5</th>\n      <th>V6</th>\n      <th>V7</th>\n      <th>V8</th>\n      <th>V9</th>\n      <th>...</th>\n      <th>V15</th>\n      <th>V16</th>\n      <th>V17</th>\n      <th>V18</th>\n      <th>V19</th>\n      <th>V20</th>\n      <th>V21</th>\n      <th>V22</th>\n      <th>V23</th>\n      <th>V24</th>\n    </tr>\n  </thead>\n  <tbody>\n    <tr>\n      <td>count</td>\n      <td>15045.000000</td>\n      <td>15045.000000</td>\n      <td>15045.000000</td>\n      <td>15045.000000</td>\n      <td>15045.000000</td>\n      <td>15045.000000</td>\n      <td>15045.000000</td>\n      <td>15045.000000</td>\n      <td>15045.000000</td>\n      <td>15045.000000</td>\n      <td>...</td>\n      <td>15045.000000</td>\n      <td>15045.000000</td>\n      <td>15045.000000</td>\n      <td>15045.000000</td>\n      <td>15045.000000</td>\n      <td>15045.000000</td>\n      <td>15045.000000</td>\n      <td>15045.000000</td>\n      <td>15045.000000</td>\n      <td>15045.000000</td>\n    </tr>\n    <tr>\n      <td>mean</td>\n      <td>0.108475</td>\n      <td>8.894744</td>\n      <td>1.258207</td>\n      <td>1.462277</td>\n      <td>1.541156</td>\n      <td>1.189098</td>\n      <td>7.841478</td>\n      <td>23.228248</td>\n      <td>0.028451</td>\n      <td>-0.065396</td>\n      <td>...</td>\n      <td>0.069327</td>\n      <td>0.179462</td>\n      <td>0.205317</td>\n      <td>0.935593</td>\n      <td>0.241476</td>\n      <td>104.540047</td>\n      <td>76.215487</td>\n      <td>95.752742</td>\n      <td>3397.433034</td>\n      <td>4572.634031</td>\n    </tr>\n    <tr>\n      <td>std</td>\n      <td>0.310989</td>\n      <td>19.381710</td>\n      <td>3.341354</td>\n      <td>0.798856</td>\n      <td>1.212106</td>\n      <td>1.007325</td>\n      <td>23.882682</td>\n      <td>72.012435</td>\n      <td>0.146681</td>\n      <td>0.792478</td>\n      <td>...</td>\n      <td>0.219726</td>\n      <td>0.383751</td>\n      <td>0.403947</td>\n      <td>0.245484</td>\n      <td>0.427992</td>\n      <td>351.177911</td>\n      <td>114.619017</td>\n      <td>132.276740</td>\n      <td>7532.012991</td>\n      <td>1945.144547</td>\n    </tr>\n    <tr>\n      <td>min</td>\n      <td>0.000000</td>\n      <td>-67.150000</td>\n      <td>-9.590000</td>\n      <td>0.100000</td>\n      <td>0.000000</td>\n      <td>-0.020000</td>\n      <td>-33.140000</td>\n      <td>-285.860000</td>\n      <td>-1.340000</td>\n      <td>-8.930000</td>\n      <td>...</td>\n      <td>-2.660000</td>\n      <td>0.000000</td>\n      <td>0.000000</td>\n      <td>0.000000</td>\n      <td>0.000000</td>\n      <td>0.000000</td>\n      <td>0.000000</td>\n      <td>0.000000</td>\n      <td>2.000000</td>\n      <td>100.000000</td>\n    </tr>\n    <tr>\n      <td>25%</td>\n      <td>0.000000</td>\n      <td>1.250000</td>\n      <td>0.000000</td>\n      <td>1.070000</td>\n      <td>0.970000</td>\n      <td>0.620000</td>\n      <td>0.940000</td>\n      <td>1.250000</td>\n      <td>0.010000</td>\n      <td>0.000000</td>\n      <td>...</td>\n      <td>0.020000</td>\n      <td>0.000000</td>\n      <td>0.000000</td>\n      <td>1.000000</td>\n      <td>0.000000</td>\n      <td>0.000000</td>\n      <td>0.000000</td>\n      <td>0.000000</td>\n      <td>602.000000</td>\n      <td>3250.000000</td>\n    </tr>\n    <tr>\n      <td>50%</td>\n      <td>0.000000</td>\n      <td>3.730000</td>\n      <td>0.060000</td>\n      <td>1.200000</td>\n      <td>1.220000</td>\n      <td>0.980000</td>\n      <td>1.750000</td>\n      <td>3.610000</td>\n      <td>0.030000</td>\n      <td>0.070000</td>\n      <td>...</td>\n      <td>0.060000</td>\n      <td>0.000000</td>\n      <td>0.000000</td>\n      <td>1.000000</td>\n      <td>0.000000</td>\n      <td>20.000000</td>\n      <td>51.000000</td>\n      <td>67.000000</td>\n      <td>1146.000000</td>\n      <td>4642.000000</td>\n    </tr>\n    <tr>\n      <td>75%</td>\n      <td>0.000000</td>\n      <td>9.850000</td>\n      <td>1.170000</td>\n      <td>1.540000</td>\n      <td>1.720000</td>\n      <td>1.400000</td>\n      <td>4.790000</td>\n      <td>16.830000</td>\n      <td>0.070000</td>\n      <td>0.210000</td>\n      <td>...</td>\n      <td>0.120000</td>\n      <td>0.000000</td>\n      <td>0.000000</td>\n      <td>1.000000</td>\n      <td>0.000000</td>\n      <td>80.000000</td>\n      <td>100.000000</td>\n      <td>135.000000</td>\n      <td>2759.000000</td>\n      <td>5510.000000</td>\n    </tr>\n    <tr>\n      <td>max</td>\n      <td>1.000000</td>\n      <td>207.090000</td>\n      <td>33.380000</td>\n      <td>8.270000</td>\n      <td>15.890000</td>\n      <td>10.910000</td>\n      <td>300.770000</td>\n      <td>571.220000</td>\n      <td>0.510000</td>\n      <td>1.280000</td>\n      <td>...</td>\n      <td>1.410000</td>\n      <td>1.000000</td>\n      <td>1.000000</td>\n      <td>1.000000</td>\n      <td>1.000000</td>\n      <td>5569.000000</td>\n      <td>1493.000000</td>\n      <td>1531.000000</td>\n      <td>79454.000000</td>\n      <td>9609.000000</td>\n    </tr>\n  </tbody>\n</table>\n<p>8 rows × 25 columns</p>\n</div>",
      "text/plain": "             status            V1            V2            V3            V4  \\\ncount  15045.000000  15045.000000  15045.000000  15045.000000  15045.000000   \nmean       0.108475      8.894744      1.258207      1.462277      1.541156   \nstd        0.310989     19.381710      3.341354      0.798856      1.212106   \nmin        0.000000    -67.150000     -9.590000      0.100000      0.000000   \n25%        0.000000      1.250000      0.000000      1.070000      0.970000   \n50%        0.000000      3.730000      0.060000      1.200000      1.220000   \n75%        0.000000      9.850000      1.170000      1.540000      1.720000   \nmax        1.000000    207.090000     33.380000      8.270000     15.890000   \n\n                 V5            V6            V7            V8            V9  \\\ncount  15045.000000  15045.000000  15045.000000  15045.000000  15045.000000   \nmean       1.189098      7.841478     23.228248      0.028451     -0.065396   \nstd        1.007325     23.882682     72.012435      0.146681      0.792478   \nmin       -0.020000    -33.140000   -285.860000     -1.340000     -8.930000   \n25%        0.620000      0.940000      1.250000      0.010000      0.000000   \n50%        0.980000      1.750000      3.610000      0.030000      0.070000   \n75%        1.400000      4.790000     16.830000      0.070000      0.210000   \nmax       10.910000    300.770000    571.220000      0.510000      1.280000   \n\n       ...           V15           V16           V17           V18  \\\ncount  ...  15045.000000  15045.000000  15045.000000  15045.000000   \nmean   ...      0.069327      0.179462      0.205317      0.935593   \nstd    ...      0.219726      0.383751      0.403947      0.245484   \nmin    ...     -2.660000      0.000000      0.000000      0.000000   \n25%    ...      0.020000      0.000000      0.000000      1.000000   \n50%    ...      0.060000      0.000000      0.000000      1.000000   \n75%    ...      0.120000      0.000000      0.000000      1.000000   \nmax    ...      1.410000      1.000000      1.000000      1.000000   \n\n                V19           V20           V21           V22           V23  \\\ncount  15045.000000  15045.000000  15045.000000  15045.000000  15045.000000   \nmean       0.241476    104.540047     76.215487     95.752742   3397.433034   \nstd        0.427992    351.177911    114.619017    132.276740   7532.012991   \nmin        0.000000      0.000000      0.000000      0.000000      2.000000   \n25%        0.000000      0.000000      0.000000      0.000000    602.000000   \n50%        0.000000     20.000000     51.000000     67.000000   1146.000000   \n75%        0.000000     80.000000    100.000000    135.000000   2759.000000   \nmax        1.000000   5569.000000   1493.000000   1531.000000  79454.000000   \n\n                V24  \ncount  15045.000000  \nmean    4572.634031  \nstd     1945.144547  \nmin      100.000000  \n25%     3250.000000  \n50%     4642.000000  \n75%     5510.000000  \nmax     9609.000000  \n\n[8 rows x 25 columns]"
     },
     "execution_count": 19,
     "metadata": {},
     "output_type": "execute_result"
    }
   ],
   "source": [
    "#rawdata_df=rawdata_df.drop(['X1'],axis=1)\n",
    "rawdata_df.describe()"
   ]
  },
  {
   "cell_type": "code",
   "execution_count": 20,
   "metadata": {},
   "outputs": [
    {
     "data": {
      "text/html": "<div>\n<style scoped>\n    .dataframe tbody tr th:only-of-type {\n        vertical-align: middle;\n    }\n\n    .dataframe tbody tr th {\n        vertical-align: top;\n    }\n\n    .dataframe thead th {\n        text-align: right;\n    }\n</style>\n<table border=\"1\" class=\"dataframe\">\n  <thead>\n    <tr style=\"text-align: right;\">\n      <th>status</th>\n      <th>0</th>\n      <th>1</th>\n    </tr>\n  </thead>\n  <tbody>\n    <tr>\n      <td>V1</td>\n      <td>8.872443</td>\n      <td>9.078033</td>\n    </tr>\n    <tr>\n      <td>V2</td>\n      <td>1.251150</td>\n      <td>1.316207</td>\n    </tr>\n    <tr>\n      <td>V3</td>\n      <td>1.510188</td>\n      <td>1.068505</td>\n    </tr>\n    <tr>\n      <td>V4</td>\n      <td>1.600219</td>\n      <td>1.055729</td>\n    </tr>\n    <tr>\n      <td>V5</td>\n      <td>1.237871</td>\n      <td>0.788241</td>\n    </tr>\n    <tr>\n      <td>V6</td>\n      <td>8.066776</td>\n      <td>5.989804</td>\n    </tr>\n    <tr>\n      <td>V7</td>\n      <td>26.389256</td>\n      <td>-2.751287</td>\n    </tr>\n    <tr>\n      <td>V8</td>\n      <td>0.048307</td>\n      <td>-0.134737</td>\n    </tr>\n    <tr>\n      <td>V9</td>\n      <td>0.015571</td>\n      <td>-0.730846</td>\n    </tr>\n    <tr>\n      <td>V10</td>\n      <td>1.380684</td>\n      <td>1.268382</td>\n    </tr>\n    <tr>\n      <td>V11</td>\n      <td>1.340820</td>\n      <td>1.251415</td>\n    </tr>\n    <tr>\n      <td>V12</td>\n      <td>0.208960</td>\n      <td>0.076746</td>\n    </tr>\n    <tr>\n      <td>V13</td>\n      <td>40.912744</td>\n      <td>5.712960</td>\n    </tr>\n    <tr>\n      <td>V14</td>\n      <td>0.084341</td>\n      <td>-0.116887</td>\n    </tr>\n    <tr>\n      <td>V15</td>\n      <td>0.092006</td>\n      <td>-0.117065</td>\n    </tr>\n    <tr>\n      <td>V16</td>\n      <td>0.132856</td>\n      <td>0.562500</td>\n    </tr>\n    <tr>\n      <td>V17</td>\n      <td>0.156192</td>\n      <td>0.609069</td>\n    </tr>\n    <tr>\n      <td>V18</td>\n      <td>0.930739</td>\n      <td>0.975490</td>\n    </tr>\n    <tr>\n      <td>V19</td>\n      <td>0.192500</td>\n      <td>0.643995</td>\n    </tr>\n    <tr>\n      <td>V20</td>\n      <td>100.313651</td>\n      <td>139.275735</td>\n    </tr>\n    <tr>\n      <td>V21</td>\n      <td>67.588161</td>\n      <td>147.121324</td>\n    </tr>\n    <tr>\n      <td>V22</td>\n      <td>90.985611</td>\n      <td>134.932598</td>\n    </tr>\n    <tr>\n      <td>V23</td>\n      <td>3557.312011</td>\n      <td>2083.427696</td>\n    </tr>\n    <tr>\n      <td>V24</td>\n      <td>4566.372996</td>\n      <td>4624.091912</td>\n    </tr>\n  </tbody>\n</table>\n</div>",
      "text/plain": "status            0            1\nV1         8.872443     9.078033\nV2         1.251150     1.316207\nV3         1.510188     1.068505\nV4         1.600219     1.055729\nV5         1.237871     0.788241\nV6         8.066776     5.989804\nV7        26.389256    -2.751287\nV8         0.048307    -0.134737\nV9         0.015571    -0.730846\nV10        1.380684     1.268382\nV11        1.340820     1.251415\nV12        0.208960     0.076746\nV13       40.912744     5.712960\nV14        0.084341    -0.116887\nV15        0.092006    -0.117065\nV16        0.132856     0.562500\nV17        0.156192     0.609069\nV18        0.930739     0.975490\nV19        0.192500     0.643995\nV20      100.313651   139.275735\nV21       67.588161   147.121324\nV22       90.985611   134.932598\nV23     3557.312011  2083.427696\nV24     4566.372996  4624.091912"
     },
     "execution_count": 20,
     "metadata": {},
     "output_type": "execute_result"
    }
   ],
   "source": [
    "rawdata_df.groupby('status').mean().T"
   ]
  },
  {
   "cell_type": "code",
   "execution_count": 21,
   "metadata": {},
   "outputs": [],
   "source": [
    "data_status=rawdata_df['status']"
   ]
  },
  {
   "cell_type": "code",
   "execution_count": 22,
   "metadata": {},
   "outputs": [
    {
     "data": {
      "text/html": "<div>\n<style scoped>\n    .dataframe tbody tr th:only-of-type {\n        vertical-align: middle;\n    }\n\n    .dataframe tbody tr th {\n        vertical-align: top;\n    }\n\n    .dataframe thead th {\n        text-align: right;\n    }\n</style>\n<table border=\"1\" class=\"dataframe\">\n  <thead>\n    <tr style=\"text-align: right;\">\n      <th></th>\n      <th>V1</th>\n      <th>V2</th>\n      <th>V3</th>\n      <th>V4</th>\n      <th>V5</th>\n      <th>V6</th>\n      <th>V7</th>\n      <th>V8</th>\n      <th>V9</th>\n      <th>V10</th>\n      <th>...</th>\n      <th>V15</th>\n      <th>V16</th>\n      <th>V17</th>\n      <th>V18</th>\n      <th>V19</th>\n      <th>V20</th>\n      <th>V21</th>\n      <th>V22</th>\n      <th>V23</th>\n      <th>V24</th>\n    </tr>\n    <tr>\n      <th>X1</th>\n      <th></th>\n      <th></th>\n      <th></th>\n      <th></th>\n      <th></th>\n      <th></th>\n      <th></th>\n      <th></th>\n      <th></th>\n      <th></th>\n      <th></th>\n      <th></th>\n      <th></th>\n      <th></th>\n      <th></th>\n      <th></th>\n      <th></th>\n      <th></th>\n      <th></th>\n      <th></th>\n      <th></th>\n    </tr>\n  </thead>\n  <tbody>\n    <tr>\n      <td>2</td>\n      <td>3.30</td>\n      <td>0.62</td>\n      <td>1.30</td>\n      <td>0.96</td>\n      <td>0.70</td>\n      <td>0.94</td>\n      <td>-21.75</td>\n      <td>-0.12</td>\n      <td>-0.53</td>\n      <td>8.50</td>\n      <td>...</td>\n      <td>-0.01</td>\n      <td>1</td>\n      <td>1</td>\n      <td>1</td>\n      <td>1</td>\n      <td>7</td>\n      <td>25</td>\n      <td>8</td>\n      <td>36635</td>\n      <td>4635</td>\n    </tr>\n    <tr>\n      <td>3</td>\n      <td>-7.93</td>\n      <td>-0.19</td>\n      <td>0.87</td>\n      <td>1.35</td>\n      <td>1.34</td>\n      <td>225.95</td>\n      <td>-42.44</td>\n      <td>-0.59</td>\n      <td>-8.12</td>\n      <td>5.13</td>\n      <td>...</td>\n      <td>-0.10</td>\n      <td>1</td>\n      <td>1</td>\n      <td>1</td>\n      <td>1</td>\n      <td>1</td>\n      <td>42</td>\n      <td>65</td>\n      <td>29970</td>\n      <td>4791</td>\n    </tr>\n    <tr>\n      <td>7</td>\n      <td>1.24</td>\n      <td>0.41</td>\n      <td>1.81</td>\n      <td>1.14</td>\n      <td>0.65</td>\n      <td>1.10</td>\n      <td>-10.84</td>\n      <td>-0.08</td>\n      <td>-0.21</td>\n      <td>2.33</td>\n      <td>...</td>\n      <td>0.00</td>\n      <td>1</td>\n      <td>1</td>\n      <td>1</td>\n      <td>1</td>\n      <td>30</td>\n      <td>43</td>\n      <td>21</td>\n      <td>7052</td>\n      <td>4752</td>\n    </tr>\n    <tr>\n      <td>10</td>\n      <td>-1.16</td>\n      <td>-0.68</td>\n      <td>0.14</td>\n      <td>1.60</td>\n      <td>0.87</td>\n      <td>2.23</td>\n      <td>-16.29</td>\n      <td>-0.27</td>\n      <td>-0.05</td>\n      <td>2.66</td>\n      <td>...</td>\n      <td>-0.07</td>\n      <td>1</td>\n      <td>1</td>\n      <td>1</td>\n      <td>1</td>\n      <td>48</td>\n      <td>31</td>\n      <td>12</td>\n      <td>4276</td>\n      <td>4771</td>\n    </tr>\n    <tr>\n      <td>12</td>\n      <td>-1.90</td>\n      <td>-0.86</td>\n      <td>0.47</td>\n      <td>0.42</td>\n      <td>0.42</td>\n      <td>-1.78</td>\n      <td>-13.83</td>\n      <td>-0.24</td>\n      <td>-0.23</td>\n      <td>1.32</td>\n      <td>...</td>\n      <td>-0.17</td>\n      <td>1</td>\n      <td>1</td>\n      <td>1</td>\n      <td>1</td>\n      <td>0</td>\n      <td>53</td>\n      <td>156</td>\n      <td>3799</td>\n      <td>3212</td>\n    </tr>\n  </tbody>\n</table>\n<p>5 rows × 24 columns</p>\n</div>",
      "text/plain": "      V1    V2    V3    V4    V5      V6     V7    V8    V9   V10  ...   V15  \\\nX1                                                                 ...         \n2   3.30  0.62  1.30  0.96  0.70    0.94 -21.75 -0.12 -0.53  8.50  ... -0.01   \n3  -7.93 -0.19  0.87  1.35  1.34  225.95 -42.44 -0.59 -8.12  5.13  ... -0.10   \n7   1.24  0.41  1.81  1.14  0.65    1.10 -10.84 -0.08 -0.21  2.33  ...  0.00   \n10 -1.16 -0.68  0.14  1.60  0.87    2.23 -16.29 -0.27 -0.05  2.66  ... -0.07   \n12 -1.90 -0.86  0.47  0.42  0.42   -1.78 -13.83 -0.24 -0.23  1.32  ... -0.17   \n\n    V16  V17  V18  V19  V20  V21  V22    V23   V24  \nX1                                                  \n2     1    1    1    1    7   25    8  36635  4635  \n3     1    1    1    1    1   42   65  29970  4791  \n7     1    1    1    1   30   43   21   7052  4752  \n10    1    1    1    1   48   31   12   4276  4771  \n12    1    1    1    1    0   53  156   3799  3212  \n\n[5 rows x 24 columns]"
     },
     "execution_count": 22,
     "metadata": {},
     "output_type": "execute_result"
    }
   ],
   "source": [
    "data_df=rawdata_df.drop(['status'],axis=1)\n",
    "data_df.head()"
   ]
  },
  {
   "cell_type": "code",
   "execution_count": 23,
   "metadata": {},
   "outputs": [],
   "source": [
    "# data_df.to_excel('../result/data.xlsx',header=True)"
   ]
  },
  {
   "cell_type": "markdown",
   "metadata": {},
   "source": [
    "### Factor Network-Based Segmentation\n"
   ]
  },
  {
   "cell_type": "code",
   "execution_count": 24,
   "metadata": {},
   "outputs": [],
   "source": [
    "data_df=(data_df-np.mean(data_df))/np.std(data_df)"
   ]
  },
  {
   "cell_type": "code",
   "execution_count": 25,
   "metadata": {},
   "outputs": [
    {
     "data": {
      "text/html": "<div>\n<style scoped>\n    .dataframe tbody tr th:only-of-type {\n        vertical-align: middle;\n    }\n\n    .dataframe tbody tr th {\n        vertical-align: top;\n    }\n\n    .dataframe thead th {\n        text-align: right;\n    }\n</style>\n<table border=\"1\" class=\"dataframe\">\n  <thead>\n    <tr style=\"text-align: right;\">\n      <th></th>\n      <th>Eigenvalue</th>\n      <th>Variation explained(%)</th>\n      <th>Cumulative(%)</th>\n    </tr>\n  </thead>\n  <tbody>\n    <tr>\n      <td>1</td>\n      <td>5.18</td>\n      <td>21.60</td>\n      <td>21.60</td>\n    </tr>\n    <tr>\n      <td>2</td>\n      <td>2.58</td>\n      <td>10.73</td>\n      <td>32.33</td>\n    </tr>\n    <tr>\n      <td>3</td>\n      <td>2.50</td>\n      <td>10.41</td>\n      <td>42.74</td>\n    </tr>\n    <tr>\n      <td>4</td>\n      <td>1.60</td>\n      <td>6.69</td>\n      <td>49.42</td>\n    </tr>\n    <tr>\n      <td>5</td>\n      <td>1.42</td>\n      <td>5.92</td>\n      <td>55.34</td>\n    </tr>\n    <tr>\n      <td>6</td>\n      <td>1.30</td>\n      <td>5.40</td>\n      <td>60.74</td>\n    </tr>\n    <tr>\n      <td>7</td>\n      <td>1.16</td>\n      <td>4.82</td>\n      <td>65.55</td>\n    </tr>\n    <tr>\n      <td>8</td>\n      <td>1.09</td>\n      <td>4.56</td>\n      <td>70.11</td>\n    </tr>\n    <tr>\n      <td>9</td>\n      <td>0.99</td>\n      <td>4.11</td>\n      <td>74.22</td>\n    </tr>\n    <tr>\n      <td>10</td>\n      <td>0.93</td>\n      <td>3.88</td>\n      <td>78.10</td>\n    </tr>\n    <tr>\n      <td>11</td>\n      <td>0.80</td>\n      <td>3.35</td>\n      <td>81.45</td>\n    </tr>\n    <tr>\n      <td>12</td>\n      <td>0.79</td>\n      <td>3.31</td>\n      <td>84.76</td>\n    </tr>\n    <tr>\n      <td>13</td>\n      <td>0.75</td>\n      <td>3.11</td>\n      <td>87.87</td>\n    </tr>\n    <tr>\n      <td>14</td>\n      <td>0.56</td>\n      <td>2.35</td>\n      <td>90.22</td>\n    </tr>\n    <tr>\n      <td>15</td>\n      <td>0.53</td>\n      <td>2.21</td>\n      <td>92.43</td>\n    </tr>\n    <tr>\n      <td>16</td>\n      <td>0.51</td>\n      <td>2.12</td>\n      <td>94.55</td>\n    </tr>\n    <tr>\n      <td>17</td>\n      <td>0.43</td>\n      <td>1.80</td>\n      <td>96.35</td>\n    </tr>\n    <tr>\n      <td>18</td>\n      <td>0.37</td>\n      <td>1.54</td>\n      <td>97.89</td>\n    </tr>\n    <tr>\n      <td>19</td>\n      <td>0.17</td>\n      <td>0.69</td>\n      <td>98.58</td>\n    </tr>\n    <tr>\n      <td>20</td>\n      <td>0.11</td>\n      <td>0.47</td>\n      <td>99.05</td>\n    </tr>\n    <tr>\n      <td>21</td>\n      <td>0.09</td>\n      <td>0.36</td>\n      <td>99.41</td>\n    </tr>\n    <tr>\n      <td>22</td>\n      <td>0.07</td>\n      <td>0.27</td>\n      <td>99.68</td>\n    </tr>\n    <tr>\n      <td>23</td>\n      <td>0.06</td>\n      <td>0.26</td>\n      <td>99.94</td>\n    </tr>\n    <tr>\n      <td>24</td>\n      <td>0.01</td>\n      <td>0.06</td>\n      <td>100.00</td>\n    </tr>\n  </tbody>\n</table>\n</div>",
      "text/plain": "    Eigenvalue  Variation explained(%)  Cumulative(%)\n1         5.18                   21.60          21.60\n2         2.58                   10.73          32.33\n3         2.50                   10.41          42.74\n4         1.60                    6.69          49.42\n5         1.42                    5.92          55.34\n6         1.30                    5.40          60.74\n7         1.16                    4.82          65.55\n8         1.09                    4.56          70.11\n9         0.99                    4.11          74.22\n10        0.93                    3.88          78.10\n11        0.80                    3.35          81.45\n12        0.79                    3.31          84.76\n13        0.75                    3.11          87.87\n14        0.56                    2.35          90.22\n15        0.53                    2.21          92.43\n16        0.51                    2.12          94.55\n17        0.43                    1.80          96.35\n18        0.37                    1.54          97.89\n19        0.17                    0.69          98.58\n20        0.11                    0.47          99.05\n21        0.09                    0.36          99.41\n22        0.07                    0.27          99.68\n23        0.06                    0.26          99.94\n24        0.01                    0.06         100.00"
     },
     "metadata": {},
     "output_type": "display_data"
    },
    {
     "name": "stdout",
     "output_type": "stream",
     "text": "Selected Feature number:  17\n"
    }
   ],
   "source": [
    "variation_threshold=0.95\n",
    "feature_number=feature_selection(data_df,variation_threshold)"
   ]
  },
  {
   "cell_type": "code",
   "execution_count": 26,
   "metadata": {},
   "outputs": [
    {
     "data": {
      "text/html": "<div>\n<style scoped>\n    .dataframe tbody tr th:only-of-type {\n        vertical-align: middle;\n    }\n\n    .dataframe tbody tr th {\n        vertical-align: top;\n    }\n\n    .dataframe thead th {\n        text-align: right;\n    }\n</style>\n<table border=\"1\" class=\"dataframe\">\n  <thead>\n    <tr style=\"text-align: right;\">\n      <th></th>\n      <th>0</th>\n    </tr>\n  </thead>\n  <tbody>\n    <tr>\n      <td>0</td>\n      <td>279.269862</td>\n    </tr>\n    <tr>\n      <td>1</td>\n      <td>196.832583</td>\n    </tr>\n    <tr>\n      <td>2</td>\n      <td>193.856475</td>\n    </tr>\n    <tr>\n      <td>3</td>\n      <td>155.374781</td>\n    </tr>\n    <tr>\n      <td>4</td>\n      <td>146.144265</td>\n    </tr>\n    <tr>\n      <td>5</td>\n      <td>139.618548</td>\n    </tr>\n    <tr>\n      <td>6</td>\n      <td>131.863115</td>\n    </tr>\n    <tr>\n      <td>7</td>\n      <td>128.279373</td>\n    </tr>\n    <tr>\n      <td>8</td>\n      <td>121.853832</td>\n    </tr>\n    <tr>\n      <td>9</td>\n      <td>118.331202</td>\n    </tr>\n    <tr>\n      <td>10</td>\n      <td>109.984150</td>\n    </tr>\n    <tr>\n      <td>11</td>\n      <td>109.278602</td>\n    </tr>\n    <tr>\n      <td>12</td>\n      <td>106.048851</td>\n    </tr>\n    <tr>\n      <td>13</td>\n      <td>92.076630</td>\n    </tr>\n    <tr>\n      <td>14</td>\n      <td>89.283080</td>\n    </tr>\n    <tr>\n      <td>15</td>\n      <td>87.585799</td>\n    </tr>\n    <tr>\n      <td>16</td>\n      <td>80.517933</td>\n    </tr>\n    <tr>\n      <td>17</td>\n      <td>74.575876</td>\n    </tr>\n    <tr>\n      <td>18</td>\n      <td>49.833474</td>\n    </tr>\n    <tr>\n      <td>19</td>\n      <td>41.375195</td>\n    </tr>\n    <tr>\n      <td>20</td>\n      <td>36.135810</td>\n    </tr>\n    <tr>\n      <td>21</td>\n      <td>31.406585</td>\n    </tr>\n    <tr>\n      <td>22</td>\n      <td>30.612364</td>\n    </tr>\n    <tr>\n      <td>23</td>\n      <td>14.255888</td>\n    </tr>\n  </tbody>\n</table>\n</div>",
      "text/plain": "             0\n0   279.269862\n1   196.832583\n2   193.856475\n3   155.374781\n4   146.144265\n5   139.618548\n6   131.863115\n7   128.279373\n8   121.853832\n9   118.331202\n10  109.984150\n11  109.278602\n12  106.048851\n13   92.076630\n14   89.283080\n15   87.585799\n16   80.517933\n17   74.575876\n18   49.833474\n19   41.375195\n20   36.135810\n21   31.406585\n22   30.612364\n23   14.255888"
     },
     "execution_count": 26,
     "metadata": {},
     "output_type": "execute_result"
    }
   ],
   "source": [
    "U,sigma,V=np.linalg.svd(data_df,full_matrices=False)\n",
    "F_cov=pd.DataFrame(U[:,:feature_number].dot(np.diag(sigma[:feature_number])))\n",
    "pd.DataFrame(sigma)"
   ]
  },
  {
   "cell_type": "code",
   "execution_count": 27,
   "metadata": {},
   "outputs": [],
   "source": [
    "ata=data_df.T.dot(data_df)\n",
    "eigenval,eigenvec=np.linalg.eig(ata)\n",
    "Vt=eigenvec.T\n",
    "F_df=(data_df).dot((np.matrix(Vt)[:feature_number,:].I))"
   ]
  },
  {
   "cell_type": "code",
   "execution_count": 28,
   "metadata": {},
   "outputs": [
    {
     "data": {
      "text/html": "<div>\n<style scoped>\n    .dataframe tbody tr th:only-of-type {\n        vertical-align: middle;\n    }\n\n    .dataframe tbody tr th {\n        vertical-align: top;\n    }\n\n    .dataframe thead th {\n        text-align: right;\n    }\n</style>\n<table border=\"1\" class=\"dataframe\">\n  <thead>\n    <tr style=\"text-align: right;\">\n      <th></th>\n      <th>0</th>\n      <th>1</th>\n      <th>2</th>\n      <th>3</th>\n      <th>4</th>\n      <th>5</th>\n      <th>6</th>\n      <th>7</th>\n      <th>8</th>\n      <th>9</th>\n      <th>10</th>\n      <th>11</th>\n      <th>12</th>\n      <th>13</th>\n      <th>14</th>\n      <th>15</th>\n      <th>16</th>\n    </tr>\n  </thead>\n  <tbody>\n    <tr>\n      <td>0</td>\n      <td>2.507867</td>\n      <td>3.621795</td>\n      <td>-7.713987</td>\n      <td>-1.062480</td>\n      <td>-0.990730</td>\n      <td>0.313423</td>\n      <td>-1.923228</td>\n      <td>-0.202912</td>\n      <td>5.413617</td>\n      <td>-0.309895</td>\n      <td>-0.006222</td>\n      <td>-3.053448</td>\n      <td>0.512548</td>\n      <td>0.090491</td>\n      <td>-0.621058</td>\n      <td>0.432224</td>\n      <td>-0.369031</td>\n    </tr>\n    <tr>\n      <td>1</td>\n      <td>6.632335</td>\n      <td>-0.806251</td>\n      <td>-5.723596</td>\n      <td>-1.689255</td>\n      <td>-3.555602</td>\n      <td>2.119939</td>\n      <td>0.998947</td>\n      <td>-3.153332</td>\n      <td>4.862232</td>\n      <td>-1.337057</td>\n      <td>8.089013</td>\n      <td>-0.641673</td>\n      <td>0.501364</td>\n      <td>0.667878</td>\n      <td>7.670498</td>\n      <td>1.122178</td>\n      <td>0.254017</td>\n    </tr>\n    <tr>\n      <td>2</td>\n      <td>2.741003</td>\n      <td>-0.287041</td>\n      <td>-1.786709</td>\n      <td>-0.762860</td>\n      <td>1.024188</td>\n      <td>0.562227</td>\n      <td>-0.467617</td>\n      <td>-0.094634</td>\n      <td>1.008527</td>\n      <td>0.238662</td>\n      <td>0.091198</td>\n      <td>-0.504868</td>\n      <td>0.240693</td>\n      <td>-0.232179</td>\n      <td>-1.171006</td>\n      <td>0.470421</td>\n      <td>-0.304695</td>\n    </tr>\n    <tr>\n      <td>3</td>\n      <td>3.623801</td>\n      <td>0.384687</td>\n      <td>-2.240346</td>\n      <td>-0.756340</td>\n      <td>0.600953</td>\n      <td>0.196723</td>\n      <td>0.146463</td>\n      <td>-0.227148</td>\n      <td>0.537650</td>\n      <td>0.039155</td>\n      <td>0.019987</td>\n      <td>-0.421298</td>\n      <td>0.396203</td>\n      <td>0.197484</td>\n      <td>-1.062692</td>\n      <td>-0.917253</td>\n      <td>0.918262</td>\n    </tr>\n    <tr>\n      <td>4</td>\n      <td>4.265881</td>\n      <td>-0.077164</td>\n      <td>-0.715740</td>\n      <td>0.259265</td>\n      <td>0.962685</td>\n      <td>-0.600492</td>\n      <td>-0.151316</td>\n      <td>-0.102152</td>\n      <td>0.004764</td>\n      <td>0.477761</td>\n      <td>0.423912</td>\n      <td>-0.012194</td>\n      <td>0.363911</td>\n      <td>0.206438</td>\n      <td>-1.031043</td>\n      <td>-0.813416</td>\n      <td>-0.071404</td>\n    </tr>\n    <tr>\n      <td>...</td>\n      <td>...</td>\n      <td>...</td>\n      <td>...</td>\n      <td>...</td>\n      <td>...</td>\n      <td>...</td>\n      <td>...</td>\n      <td>...</td>\n      <td>...</td>\n      <td>...</td>\n      <td>...</td>\n      <td>...</td>\n      <td>...</td>\n      <td>...</td>\n      <td>...</td>\n      <td>...</td>\n      <td>...</td>\n    </tr>\n    <tr>\n      <td>15040</td>\n      <td>-1.077973</td>\n      <td>0.789399</td>\n      <td>0.688196</td>\n      <td>-0.537244</td>\n      <td>1.910738</td>\n      <td>0.332749</td>\n      <td>1.417775</td>\n      <td>1.757758</td>\n      <td>0.721017</td>\n      <td>-1.539043</td>\n      <td>-0.169725</td>\n      <td>-0.333825</td>\n      <td>-0.337791</td>\n      <td>0.168588</td>\n      <td>0.922324</td>\n      <td>-0.159788</td>\n      <td>0.745435</td>\n    </tr>\n    <tr>\n      <td>15041</td>\n      <td>-2.460943</td>\n      <td>-1.031102</td>\n      <td>6.146822</td>\n      <td>-1.620791</td>\n      <td>2.368834</td>\n      <td>2.939689</td>\n      <td>4.201732</td>\n      <td>-8.252069</td>\n      <td>4.276531</td>\n      <td>-1.494215</td>\n      <td>-5.714576</td>\n      <td>-3.717424</td>\n      <td>0.941253</td>\n      <td>0.363424</td>\n      <td>1.740711</td>\n      <td>-2.426630</td>\n      <td>-1.111977</td>\n    </tr>\n    <tr>\n      <td>15042</td>\n      <td>-0.991454</td>\n      <td>-0.096722</td>\n      <td>1.319763</td>\n      <td>-0.871741</td>\n      <td>1.354595</td>\n      <td>-0.259233</td>\n      <td>-0.069936</td>\n      <td>-0.189306</td>\n      <td>-0.731056</td>\n      <td>0.257195</td>\n      <td>0.269244</td>\n      <td>0.645537</td>\n      <td>-0.210001</td>\n      <td>0.235987</td>\n      <td>0.334546</td>\n      <td>-0.208532</td>\n      <td>0.481712</td>\n    </tr>\n    <tr>\n      <td>15043</td>\n      <td>0.874122</td>\n      <td>-10.407769</td>\n      <td>0.491132</td>\n      <td>-0.835163</td>\n      <td>-4.977077</td>\n      <td>-0.752059</td>\n      <td>0.229386</td>\n      <td>6.473110</td>\n      <td>1.993125</td>\n      <td>0.520133</td>\n      <td>-0.143335</td>\n      <td>-1.748537</td>\n      <td>-0.567426</td>\n      <td>0.099619</td>\n      <td>-1.277754</td>\n      <td>-0.217462</td>\n      <td>-5.398045</td>\n    </tr>\n    <tr>\n      <td>15044</td>\n      <td>3.868754</td>\n      <td>-1.126443</td>\n      <td>0.486002</td>\n      <td>-1.002324</td>\n      <td>0.300208</td>\n      <td>0.904899</td>\n      <td>-0.176686</td>\n      <td>-0.977730</td>\n      <td>-0.721843</td>\n      <td>0.067418</td>\n      <td>-0.268055</td>\n      <td>0.890471</td>\n      <td>-0.454148</td>\n      <td>0.847691</td>\n      <td>-1.295146</td>\n      <td>-0.350277</td>\n      <td>-0.101490</td>\n    </tr>\n  </tbody>\n</table>\n<p>15045 rows × 17 columns</p>\n</div>",
      "text/plain": "              0          1         2         3         4         5         6  \\\n0      2.507867   3.621795 -7.713987 -1.062480 -0.990730  0.313423 -1.923228   \n1      6.632335  -0.806251 -5.723596 -1.689255 -3.555602  2.119939  0.998947   \n2      2.741003  -0.287041 -1.786709 -0.762860  1.024188  0.562227 -0.467617   \n3      3.623801   0.384687 -2.240346 -0.756340  0.600953  0.196723  0.146463   \n4      4.265881  -0.077164 -0.715740  0.259265  0.962685 -0.600492 -0.151316   \n...         ...        ...       ...       ...       ...       ...       ...   \n15040 -1.077973   0.789399  0.688196 -0.537244  1.910738  0.332749  1.417775   \n15041 -2.460943  -1.031102  6.146822 -1.620791  2.368834  2.939689  4.201732   \n15042 -0.991454  -0.096722  1.319763 -0.871741  1.354595 -0.259233 -0.069936   \n15043  0.874122 -10.407769  0.491132 -0.835163 -4.977077 -0.752059  0.229386   \n15044  3.868754  -1.126443  0.486002 -1.002324  0.300208  0.904899 -0.176686   \n\n              7         8         9        10        11        12        13  \\\n0     -0.202912  5.413617 -0.309895 -0.006222 -3.053448  0.512548  0.090491   \n1     -3.153332  4.862232 -1.337057  8.089013 -0.641673  0.501364  0.667878   \n2     -0.094634  1.008527  0.238662  0.091198 -0.504868  0.240693 -0.232179   \n3     -0.227148  0.537650  0.039155  0.019987 -0.421298  0.396203  0.197484   \n4     -0.102152  0.004764  0.477761  0.423912 -0.012194  0.363911  0.206438   \n...         ...       ...       ...       ...       ...       ...       ...   \n15040  1.757758  0.721017 -1.539043 -0.169725 -0.333825 -0.337791  0.168588   \n15041 -8.252069  4.276531 -1.494215 -5.714576 -3.717424  0.941253  0.363424   \n15042 -0.189306 -0.731056  0.257195  0.269244  0.645537 -0.210001  0.235987   \n15043  6.473110  1.993125  0.520133 -0.143335 -1.748537 -0.567426  0.099619   \n15044 -0.977730 -0.721843  0.067418 -0.268055  0.890471 -0.454148  0.847691   \n\n             14        15        16  \n0     -0.621058  0.432224 -0.369031  \n1      7.670498  1.122178  0.254017  \n2     -1.171006  0.470421 -0.304695  \n3     -1.062692 -0.917253  0.918262  \n4     -1.031043 -0.813416 -0.071404  \n...         ...       ...       ...  \n15040  0.922324 -0.159788  0.745435  \n15041  1.740711 -2.426630 -1.111977  \n15042  0.334546 -0.208532  0.481712  \n15043 -1.277754 -0.217462 -5.398045  \n15044 -1.295146 -0.350277 -0.101490  \n\n[15045 rows x 17 columns]"
     },
     "execution_count": 28,
     "metadata": {},
     "output_type": "execute_result"
    }
   ],
   "source": [
    "F_cov"
   ]
  },
  {
   "cell_type": "code",
   "execution_count": 29,
   "metadata": {},
   "outputs": [],
   "source": [
    "# select_col_num = 17\n",
    "\n",
    "# lomo=np.linalg.svd(data_df)\n",
    "\n",
    "# my_U = lomo[0][:,:select_col_num]\n",
    "# my_D=lomo[1]**2\n",
    "# my_D = np.sqrt(np.diag(my_D[:select_col_num])/(data_df.shape[0]-1))\n",
    "# F_df=pd.DataFrame(my_U.dot(np.diag(lomo[1][:select_col_num])))\n",
    "# F_df1=pd.DataFrame(my_U.dot(my_D))\n",
    "# display(F_df,F_df1)"
   ]
  },
  {
   "cell_type": "code",
   "execution_count": 30,
   "metadata": {},
   "outputs": [],
   "source": [
    "# F_df=pd.DataFrame(np.matrix(data_df.T).I.dot(eig_vecs).dot(np.diag(eig_vals)))\n",
    "\n",
    "network_threshold=[0.05,0.1]\n"
   ]
  },
  {
   "cell_type": "code",
   "execution_count": 31,
   "metadata": {},
   "outputs": [],
   "source": [
    "theta=norm.ppf(2/(F_cov.shape[0]-1))\n",
    "factor_matrix=norm.cdf(np.cov(F_cov)+theta)"
   ]
  },
  {
   "cell_type": "code",
   "execution_count": 34,
   "metadata": {},
   "outputs": [],
   "source": [
    "result_df=pd.DataFrame()\n",
    "temp_df_list = []\n",
    "for threshold in network_threshold:\n",
    "    \n",
    "    temp_df=pd.DataFrame(factor_matrix>threshold)\n",
    "    temp_df.to_csv(\"../result/fator_matrix_threshold_%s.csv\" % (str(threshold)), index=True)\n",
    "    \n",
    "#     temp_df=np.sum(temp_df)\n",
    "    temp_df=temp_df.sum()\n",
    "    temp_df[temp_df<=30]=0\n",
    "    temp_df[temp_df!=0]=1\n",
    "    pd.DataFrame(index=temp_df.index, data=temp_df.values, columns=[\"connect_flag\"]).to_csv(\"../result/connect_flag_df_threshold_%s.csv\" % (str(threshold)), index=True)\n",
    "    temp_df=(np.vstack((temp_df, data_status))).T\n",
    "      \n",
    "    connect_df=temp_df[temp_df[:,0]==1]\n",
    "    nonconnect_df=temp_df[temp_df[:,0]==0]\n",
    "    temp1=pd.DataFrame.from_dict(Counter(connect_df[:,1]),orient='index').reset_index()\n",
    "    temp1.columns=['Status','Connect']\n",
    "    temp1_per=np.array(list(Counter(connect_df[:,1]).values()))\n",
    "    temp1['Connect_Per']=temp1_per/connect_df.shape[0]\n",
    "\n",
    "    temp2=pd.DataFrame.from_dict(Counter(nonconnect_df[:,1]),orient='index').reset_index()\n",
    "    temp2.columns=['Status','Non-Connect']\n",
    "    temp2_per=np.array(list(Counter(nonconnect_df[:,1]).values()))\n",
    "    temp2['NonConnect_Per']=temp2_per/nonconnect_df.shape[0]\n",
    "\n",
    "    temp_df=pd.merge(temp1,temp2)\n",
    "    add_row=pd.DataFrame([['Total',connect_df.shape[0],connect_df.shape[0]/data_df.shape[0],nonconnect_df.shape[0],nonconnect_df.shape[0]/data_df.shape[0]]],columns=temp_df.columns)\n",
    "    temp_df=temp_df.append(add_row)\n",
    "    temp_df['Threshold']=threshold\n",
    "    result_df=pd.concat([result_df,temp_df],axis=0)\n",
    "\n",
    "result_df.set_index(['Threshold','Status'], inplace=True)"
   ]
  },
  {
   "cell_type": "code",
   "execution_count": 35,
   "metadata": {},
   "outputs": [
    {
     "data": {
      "text/html": "<div>\n<style scoped>\n    .dataframe tbody tr th:only-of-type {\n        vertical-align: middle;\n    }\n\n    .dataframe tbody tr th {\n        vertical-align: top;\n    }\n\n    .dataframe thead th {\n        text-align: right;\n    }\n</style>\n<table border=\"1\" class=\"dataframe\">\n  <thead>\n    <tr style=\"text-align: right;\">\n      <th></th>\n      <th></th>\n      <th>Connect</th>\n      <th>Connect_Per</th>\n      <th>Non-Connect</th>\n      <th>NonConnect_Per</th>\n    </tr>\n    <tr>\n      <th>Threshold</th>\n      <th>Status</th>\n      <th></th>\n      <th></th>\n      <th></th>\n      <th></th>\n    </tr>\n  </thead>\n  <tbody>\n    <tr>\n      <td rowspan=\"3\" valign=\"top\">0.05</td>\n      <td>1</td>\n      <td>998</td>\n      <td>0.228899</td>\n      <td>634</td>\n      <td>0.059336</td>\n    </tr>\n    <tr>\n      <td>0</td>\n      <td>3362</td>\n      <td>0.771101</td>\n      <td>10051</td>\n      <td>0.940664</td>\n    </tr>\n    <tr>\n      <td>Total</td>\n      <td>4360</td>\n      <td>0.289797</td>\n      <td>10685</td>\n      <td>0.710203</td>\n    </tr>\n    <tr>\n      <td rowspan=\"3\" valign=\"top\">0.10</td>\n      <td>1</td>\n      <td>859</td>\n      <td>0.253019</td>\n      <td>773</td>\n      <td>0.066352</td>\n    </tr>\n    <tr>\n      <td>0</td>\n      <td>2536</td>\n      <td>0.746981</td>\n      <td>10877</td>\n      <td>0.933648</td>\n    </tr>\n    <tr>\n      <td>Total</td>\n      <td>3395</td>\n      <td>0.225656</td>\n      <td>11650</td>\n      <td>0.774344</td>\n    </tr>\n  </tbody>\n</table>\n</div>",
      "text/plain": "                  Connect  Connect_Per  Non-Connect  NonConnect_Per\nThreshold Status                                                   \n0.05      1           998     0.228899          634        0.059336\n          0          3362     0.771101        10051        0.940664\n          Total      4360     0.289797        10685        0.710203\n0.10      1           859     0.253019          773        0.066352\n          0          2536     0.746981        10877        0.933648\n          Total      3395     0.225656        11650        0.774344"
     },
     "execution_count": 35,
     "metadata": {},
     "output_type": "execute_result"
    }
   ],
   "source": [
    "result_df"
   ]
  },
  {
   "cell_type": "markdown",
   "metadata": {},
   "source": [
    "### Feature Engineering"
   ]
  },
  {
   "cell_type": "code",
   "execution_count": null,
   "metadata": {},
   "outputs": [],
   "source": []
  }
 ],
 "metadata": {
  "kernelspec": {
   "display_name": "Python 3",
   "language": "python",
   "name": "python3"
  },
  "language_info": {
   "codemirror_mode": {
    "name": "ipython",
    "version": 3
   },
   "file_extension": ".py",
   "mimetype": "text/x-python",
   "name": "python",
   "nbconvert_exporter": "python",
   "pygments_lexer": "ipython3",
   "version": "3.7.4-final"
  }
 },
 "nbformat": 4,
 "nbformat_minor": 2
}